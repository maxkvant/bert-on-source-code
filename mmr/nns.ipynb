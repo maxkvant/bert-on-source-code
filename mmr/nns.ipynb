{
 "cells": [
  {
   "cell_type": "code",
   "execution_count": 1,
   "metadata": {},
   "outputs": [],
   "source": [
    "import sys\n",
    "sys.path.append('..')"
   ]
  },
  {
   "cell_type": "code",
   "execution_count": 6,
   "metadata": {},
   "outputs": [],
   "source": [
    "from pathlib import Path\n",
    "from itertools import islice\n",
    "import csv\n",
    "\n",
    "import numpy as np\n",
    "import torch\n",
    "from torch import nn\n",
    "from tqdm import tqdm\n",
    "from sklearn.model_selection import train_test_split\n",
    "from sklearn.metrics import f1_score, roc_auc_score\n",
    "\n",
    "import mmr.ds_loading\n",
    "import mmr.vectorization\n",
    "import cubert_wrapper"
   ]
  },
  {
   "cell_type": "code",
   "execution_count": 62,
   "metadata": {},
   "outputs": [],
   "source": [
    "data_root = Path('/home/maxkvant/data/mmr/')\n",
    "\n",
    "test_classes_vecs_path = data_root / 'mmr_vecs_np'\n",
    "test_methods_vecs_path = data_root / 'mmr_vecs_wm'\n",
    "test_ds = mmr.ds_loading.MMRDataset(data_root / 'MoveMethodDataset', test_methods_vecs_path, test_classes_vecs_path, \n",
    "                                    torch.FloatTensor, torch.FloatTensor, True, True, precalculated=True)\n",
    "\n",
    "train_classes_vecs_path = data_root / 'mmr_tr_dsv'\n",
    "train_methods_vecs_path = data_root / 'mmr_tr_dsvwm_v2'\n",
    "train_ds = mmr.ds_loading.MMRDataset(data_root / 'mmr_tr_ds', train_methods_vecs_path, train_classes_vecs_path, \n",
    "                                     torch.FloatTensor, torch.FloatTensor, True, True, precalculated=True)"
   ]
  },
  {
   "cell_type": "code",
   "execution_count": 63,
   "metadata": {},
   "outputs": [
    {
     "data": {
      "text/plain": [
       "{'actor-platform',\n",
       " 'atlas',\n",
       " 'buck',\n",
       " 'crate',\n",
       " 'deeplearning4j',\n",
       " 'drools',\n",
       " 'hbase',\n",
       " 'hive',\n",
       " 'jenkins',\n",
       " 'jstorm',\n",
       " 'pinpoint',\n",
       " 'pmd'}"
      ]
     },
     "execution_count": 63,
     "metadata": {},
     "output_type": "execute_result"
    }
   ],
   "source": [
    "c_tr = {i[0] for i in train_ds}\n",
    "c_te = {i[0] for i in test_ds}\n",
    "tr_exclude_projects = c_tr & c_te\n",
    "tr_exclude_projects"
   ]
  },
  {
   "cell_type": "code",
   "execution_count": 7,
   "metadata": {},
   "outputs": [],
   "source": [
    "proj_train, proj_val = train_test_split(list(c_tr - tr_exclude_projects))"
   ]
  },
  {
   "cell_type": "code",
   "execution_count": 66,
   "metadata": {},
   "outputs": [],
   "source": [
    "def ds_to_xy(ds, val_projects, exclude_projects = {}):\n",
    "    x_train, x_val, y_train, y_val = [], [], [], []\n",
    "    mn_train, mn_val = [], []\n",
    "    for project, mn, _, mv, cv, tgt in ds:\n",
    "        if project in val_projects:\n",
    "            x_val.append((mv, cv))\n",
    "            y_val.append(tgt)\n",
    "            mn_val.append(mn)\n",
    "        elif project not in exclude_projects:\n",
    "            x_train.append((mv, cv))\n",
    "            y_train.append(tgt)\n",
    "            mn_train.append(mn)\n",
    "    return x_train, x_val, y_train, y_val, mn_train, mn_val\n",
    "\n",
    "\n",
    "x_train, x_val, y_train, y_val, mn_train, mn_val = ds_to_xy(train_ds, proj_val, tr_exclude_projects)\n",
    "x_test, _, y_test, _, mn_test, _ = ds_to_xy(test_ds, {})"
   ]
  },
  {
   "cell_type": "code",
   "execution_count": 67,
   "metadata": {},
   "outputs": [],
   "source": [
    "dl_train = torch.utils.data.DataLoader(list(zip(x_train, y_train)), batch_size=1)\n",
    "dl_val = torch.utils.data.DataLoader(list(zip(x_val, y_val)), batch_size=1)"
   ]
  },
  {
   "cell_type": "code",
   "execution_count": 12,
   "metadata": {},
   "outputs": [],
   "source": [
    "class RNNClassifier(nn.Module):\n",
    "    def __init__(self, hidden_dim, n_channels):\n",
    "        super().__init__()\n",
    "        self.hidden_dim = hidden_dim\n",
    "        self.n_channels = n_channels\n",
    "        self.method_rnn = nn.LSTM(1024, hidden_dim, n_channels, batch_first=True)\n",
    "        self.class_rnn = nn.LSTM(1024, hidden_dim, n_channels, batch_first=True)\n",
    "        self.linear_clf = nn.Sequential(\n",
    "            nn.Linear(hidden_dim * n_channels * 2, 512),\n",
    "            nn.PReLU(),\n",
    "            nn.Linear(512, 512),\n",
    "            nn.PReLU(),\n",
    "            nn.Linear(512, 1),\n",
    "            nn.Sigmoid()\n",
    "        )\n",
    "        \n",
    "    def forward(self, x):\n",
    "        method_line_embs, class_line_embs = x\n",
    "        _, (_, method_last_c) = self.method_rnn(method_line_embs)\n",
    "        _, (_, class_last_c) = self.class_rnn(class_line_embs)\n",
    "        rnn_cs = torch.cat((method_last_c.reshape((-1, self.hidden_dim * self.n_channels)), \n",
    "                            class_last_c.reshape((-1, self.hidden_dim * self.n_channels))), axis=1)\n",
    "        return self.linear_clf(rnn_cs)"
   ]
  },
  {
   "cell_type": "code",
   "execution_count": 68,
   "metadata": {},
   "outputs": [],
   "source": [
    "class CNNClassifier(nn.Module):\n",
    "    def __init__(self, ):\n",
    "        super().__init__()\n",
    "        self.method_convs = nn.Sequential(\n",
    "            nn.Conv1d(1024, 1024, 5, padding=2),\n",
    "            nn.Tanh(),\n",
    "            nn.Conv1d(1024, 1024, 5, padding=2),\n",
    "            nn.Tanh()\n",
    "        )\n",
    "        self.class_convs = nn.Sequential(\n",
    "            nn.Conv1d(1024, 1024, 5, padding=2),\n",
    "            nn.Tanh(),\n",
    "            nn.Conv1d(1024, 1024, 5, padding=2),\n",
    "            nn.Tanh(),\n",
    "        )\n",
    "        self.linear_clf = nn.Sequential(\n",
    "            nn.Linear(2048, 1024),\n",
    "            nn.PReLU(),\n",
    "            nn.Linear(1024, 512),\n",
    "            nn.PReLU(),\n",
    "            nn.Linear(512, 512),\n",
    "            nn.PReLU(),\n",
    "            nn.Linear(512, 1),\n",
    "            nn.Sigmoid()\n",
    "        )\n",
    "    \n",
    "    def forward(self, x):\n",
    "        method_line_embs, class_line_embs = x\n",
    "        method_line_embs, class_line_embs = method_line_embs.permute(0, 2, 1), class_line_embs.permute(0, 2, 1)\n",
    "        conved = torch.cat((self.method_convs(method_line_embs).mean(axis=2), \n",
    "                            self.class_convs(class_line_embs).mean(axis=2)),\n",
    "                           axis=1)\n",
    "        return self.linear_clf(conved)"
   ]
  },
  {
   "cell_type": "code",
   "execution_count": 14,
   "metadata": {},
   "outputs": [],
   "source": [
    "class AttnClassifier(nn.Module):\n",
    "    def __init__(self, ):\n",
    "        super().__init__()\n",
    "        self.method_convs = nn.Sequential(\n",
    "            nn.Conv1d(1024, 1, 1)\n",
    "        )\n",
    "        self.class_convs = nn.Sequential(\n",
    "            nn.Conv1d(1024, 1, 1)\n",
    "        )\n",
    "        self.linear_clf = nn.Sequential(\n",
    "            nn.Linear(2048, 1024),\n",
    "            nn.PReLU(),\n",
    "            nn.Linear(1024, 512),\n",
    "            nn.PReLU(),\n",
    "            nn.Linear(512, 512),\n",
    "            nn.PReLU(),\n",
    "            nn.Linear(512, 1),\n",
    "            nn.Sigmoid()\n",
    "        )\n",
    "    \n",
    "    def forward(self, x):\n",
    "        method_line_embs, class_line_embs = x\n",
    "        method_line_embs, class_line_embs = method_line_embs.permute(0, 2, 1), class_line_embs.permute(0, 2, 1)\n",
    "        method_weights = torch.softmax(self.method_convs(method_line_embs), axis=2)\n",
    "        class_weights = torch.softmax(self.class_convs(class_line_embs), axis=2)\n",
    "        method_rep = torch.sum(method_weights * method_line_embs, axis=2)\n",
    "        class_rep = torch.sum(class_weights * class_line_embs, axis=2)\n",
    "        reps = torch.cat((method_rep, class_rep), axis=1)\n",
    "        return self.linear_clf(reps)"
   ]
  },
  {
   "cell_type": "code",
   "execution_count": 20,
   "metadata": {},
   "outputs": [],
   "source": [
    "def train(model, n_epochs, dl_train, dl_val, lr, wd, save_path):\n",
    "    loss_function = nn.BCELoss()\n",
    "    opt = torch.optim.Adam(model.parameters(), lr=lr, weight_decay=wd)\n",
    "    best_score = -1\n",
    "    \n",
    "    for epoch in range(n_epochs):\n",
    "        train_losses, val_losses, val_tgts, val_preds = [], [], [], []\n",
    "        for x, y in tqdm(dl_train):\n",
    "            x = tuple(i.cuda() for i in x)\n",
    "            y = y.cuda()\n",
    "            opt.zero_grad()\n",
    "            pred = model(x)\n",
    "            y = y.unsqueeze(1).float()\n",
    "            loss = loss_function(pred, y)\n",
    "            loss.backward()\n",
    "            opt.step()\n",
    "            train_losses.append(loss.detach())\n",
    "\n",
    "        with torch.no_grad():\n",
    "            for x, y in tqdm(dl_val):\n",
    "                x = tuple(i.cuda() for i in x)\n",
    "                pred = model(x).cpu()\n",
    "                y = y.unsqueeze(1).float()\n",
    "                loss = loss_function(pred, y)\n",
    "                val_losses.append(loss)\n",
    "                val_tgts.append(y[0, 0])\n",
    "                val_preds.append(pred[0, 0])\n",
    "        train_loss = torch.tensor(train_losses).mean()\n",
    "        val_loss = torch.tensor(val_losses).mean()\n",
    "        val_tgts, val_preds = torch.tensor(val_tgts), torch.tensor(val_preds)\n",
    "        print((val_preds > .5).float().mean(), val_tgts.float().mean())\n",
    "        val_f1 = f1_score(val_tgts, val_preds > .5)\n",
    "        val_roc = roc_auc_score(val_tgts, val_preds)\n",
    "        if val_f1 > best_score:\n",
    "            best_score = val_f1\n",
    "            torch.save(model.state_dict(), save_path)\n",
    "        print(f'Epoch {epoch} loss: train {train_loss:.4f} val {val_loss:.4f} f1: {val_f1:.4f}, ROC AUC: {val_roc:.4f}')"
   ]
  },
  {
   "cell_type": "code",
   "execution_count": null,
   "metadata": {},
   "outputs": [],
   "source": [
    "rnn_model = RNNClassifier(1024, 2).cuda()\n",
    "train(rnn_model, 20, dl_train, dl_val, 1e-4, 1e-5)"
   ]
  },
  {
   "cell_type": "code",
   "execution_count": 74,
   "metadata": {},
   "outputs": [
    {
     "name": "stderr",
     "output_type": "stream",
     "text": [
      "100%|██████████| 23679/23679 [03:26<00:00, 114.52it/s]\n",
      "100%|██████████| 7459/7459 [00:22<00:00, 330.90it/s]\n"
     ]
    },
    {
     "name": "stdout",
     "output_type": "stream",
     "text": [
      "tensor(0.2465) tensor(0.5446)\n"
     ]
    },
    {
     "name": "stderr",
     "output_type": "stream",
     "text": [
      "  0%|          | 10/23679 [00:00<04:02, 97.41it/s]"
     ]
    },
    {
     "name": "stdout",
     "output_type": "stream",
     "text": [
      "Epoch 0 loss: train 0.4471 val 0.7125 f1: 0.5785, ROC AUC: 0.8342\n"
     ]
    },
    {
     "name": "stderr",
     "output_type": "stream",
     "text": [
      "100%|██████████| 23679/23679 [03:30<00:00, 112.61it/s]\n",
      "100%|██████████| 7459/7459 [00:22<00:00, 330.29it/s]\n"
     ]
    },
    {
     "name": "stdout",
     "output_type": "stream",
     "text": [
      "tensor(0.2700) tensor(0.5446)\n"
     ]
    },
    {
     "name": "stderr",
     "output_type": "stream",
     "text": [
      "  0%|          | 11/23679 [00:00<03:52, 101.62it/s]"
     ]
    },
    {
     "name": "stdout",
     "output_type": "stream",
     "text": [
      "Epoch 1 loss: train 0.3874 val 0.6821 f1: 0.6185, ROC AUC: 0.8515\n"
     ]
    },
    {
     "name": "stderr",
     "output_type": "stream",
     "text": [
      "100%|██████████| 23679/23679 [04:03<00:00, 97.16it/s] \n",
      "100%|██████████| 7459/7459 [00:29<00:00, 255.42it/s]\n",
      "  0%|          | 11/23679 [00:00<03:38, 108.24it/s]"
     ]
    },
    {
     "name": "stdout",
     "output_type": "stream",
     "text": [
      "tensor(0.2612) tensor(0.5446)\n",
      "Epoch 2 loss: train 0.3666 val 0.7364 f1: 0.6116, ROC AUC: 0.8539\n"
     ]
    },
    {
     "name": "stderr",
     "output_type": "stream",
     "text": [
      "100%|██████████| 23679/23679 [04:47<00:00, 82.33it/s] \n",
      "100%|██████████| 7459/7459 [00:22<00:00, 336.45it/s]\n"
     ]
    },
    {
     "name": "stdout",
     "output_type": "stream",
     "text": [
      "tensor(0.2676) tensor(0.5446)\n"
     ]
    },
    {
     "name": "stderr",
     "output_type": "stream",
     "text": [
      "  0%|          | 10/23679 [00:00<03:57, 99.77it/s]"
     ]
    },
    {
     "name": "stdout",
     "output_type": "stream",
     "text": [
      "Epoch 3 loss: train 0.3530 val 0.7351 f1: 0.6273, ROC AUC: 0.8560\n"
     ]
    },
    {
     "name": "stderr",
     "output_type": "stream",
     "text": [
      "100%|██████████| 23679/23679 [04:59<00:00, 78.98it/s] \n",
      "100%|██████████| 7459/7459 [00:23<00:00, 323.57it/s]\n"
     ]
    },
    {
     "name": "stdout",
     "output_type": "stream",
     "text": [
      "tensor(0.2962) tensor(0.5446)\n"
     ]
    },
    {
     "name": "stderr",
     "output_type": "stream",
     "text": [
      "  0%|          | 10/23679 [00:00<04:14, 92.97it/s]"
     ]
    },
    {
     "name": "stdout",
     "output_type": "stream",
     "text": [
      "Epoch 4 loss: train 0.3420 val 0.6868 f1: 0.6605, ROC AUC: 0.8597\n"
     ]
    },
    {
     "name": "stderr",
     "output_type": "stream",
     "text": [
      "100%|██████████| 23679/23679 [06:15<00:00, 63.04it/s] \n",
      "100%|██████████| 7459/7459 [00:22<00:00, 331.27it/s]\n"
     ]
    },
    {
     "name": "stdout",
     "output_type": "stream",
     "text": [
      "tensor(0.3454) tensor(0.5446)\n"
     ]
    },
    {
     "name": "stderr",
     "output_type": "stream",
     "text": [
      "  0%|          | 9/23679 [00:00<04:25, 89.10it/s]"
     ]
    },
    {
     "name": "stdout",
     "output_type": "stream",
     "text": [
      "Epoch 5 loss: train 0.3321 val 0.5975 f1: 0.7099, ROC AUC: 0.8673\n"
     ]
    },
    {
     "name": "stderr",
     "output_type": "stream",
     "text": [
      "100%|██████████| 23679/23679 [05:11<00:00, 76.03it/s] \n",
      "100%|██████████| 7459/7459 [00:23<00:00, 323.08it/s]\n"
     ]
    },
    {
     "name": "stdout",
     "output_type": "stream",
     "text": [
      "tensor(0.3484) tensor(0.5446)\n"
     ]
    },
    {
     "name": "stderr",
     "output_type": "stream",
     "text": [
      "  0%|          | 10/23679 [00:00<04:11, 94.01it/s]"
     ]
    },
    {
     "name": "stdout",
     "output_type": "stream",
     "text": [
      "Epoch 6 loss: train 0.3238 val 0.5964 f1: 0.7137, ROC AUC: 0.8689\n"
     ]
    },
    {
     "name": "stderr",
     "output_type": "stream",
     "text": [
      "100%|██████████| 23679/23679 [03:59<00:00, 99.05it/s] \n",
      "100%|██████████| 7459/7459 [01:16<00:00, 97.61it/s] \n"
     ]
    },
    {
     "name": "stdout",
     "output_type": "stream",
     "text": [
      "tensor(0.3645) tensor(0.5446)\n"
     ]
    },
    {
     "name": "stderr",
     "output_type": "stream",
     "text": [
      "  0%|          | 4/23679 [00:00<11:33, 34.14it/s]"
     ]
    },
    {
     "name": "stdout",
     "output_type": "stream",
     "text": [
      "Epoch 7 loss: train 0.3155 val 0.5601 f1: 0.7323, ROC AUC: 0.8743\n"
     ]
    },
    {
     "name": "stderr",
     "output_type": "stream",
     "text": [
      "100%|██████████| 23679/23679 [06:35<00:00, 59.83it/s] \n",
      "100%|██████████| 7459/7459 [01:16<00:00, 97.33it/s] \n"
     ]
    },
    {
     "name": "stdout",
     "output_type": "stream",
     "text": [
      "tensor(0.3680) tensor(0.5446)\n"
     ]
    },
    {
     "name": "stderr",
     "output_type": "stream",
     "text": [
      "  0%|          | 4/23679 [00:00<12:30, 31.57it/s]"
     ]
    },
    {
     "name": "stdout",
     "output_type": "stream",
     "text": [
      "Epoch 8 loss: train 0.3089 val 0.5525 f1: 0.7381, ROC AUC: 0.8772\n"
     ]
    },
    {
     "name": "stderr",
     "output_type": "stream",
     "text": [
      "100%|██████████| 23679/23679 [07:43<00:00, 51.06it/s] \n",
      "100%|██████████| 7459/7459 [00:22<00:00, 336.50it/s]\n"
     ]
    },
    {
     "name": "stdout",
     "output_type": "stream",
     "text": [
      "tensor(0.3740) tensor(0.5446)\n"
     ]
    },
    {
     "name": "stderr",
     "output_type": "stream",
     "text": [
      "  0%|          | 11/23679 [00:00<03:52, 101.91it/s]"
     ]
    },
    {
     "name": "stdout",
     "output_type": "stream",
     "text": [
      "Epoch 9 loss: train 0.3028 val 0.5402 f1: 0.7469, ROC AUC: 0.8809\n"
     ]
    },
    {
     "name": "stderr",
     "output_type": "stream",
     "text": [
      "100%|██████████| 23679/23679 [03:23<00:00, 116.23it/s]\n",
      "100%|██████████| 7459/7459 [00:22<00:00, 336.14it/s]\n"
     ]
    },
    {
     "name": "stdout",
     "output_type": "stream",
     "text": [
      "tensor(0.3755) tensor(0.5446)\n"
     ]
    },
    {
     "name": "stderr",
     "output_type": "stream",
     "text": [
      "  0%|          | 11/23679 [00:00<03:45, 104.86it/s]"
     ]
    },
    {
     "name": "stdout",
     "output_type": "stream",
     "text": [
      "Epoch 10 loss: train 0.2976 val 0.5323 f1: 0.7487, ROC AUC: 0.8837\n"
     ]
    },
    {
     "name": "stderr",
     "output_type": "stream",
     "text": [
      "100%|██████████| 23679/23679 [03:24<00:00, 116.05it/s]\n",
      "100%|██████████| 7459/7459 [00:23<00:00, 322.18it/s]\n"
     ]
    },
    {
     "name": "stdout",
     "output_type": "stream",
     "text": [
      "tensor(0.3787) tensor(0.5446)\n"
     ]
    },
    {
     "name": "stderr",
     "output_type": "stream",
     "text": [
      "  0%|          | 11/23679 [00:00<03:50, 102.70it/s]"
     ]
    },
    {
     "name": "stdout",
     "output_type": "stream",
     "text": [
      "Epoch 11 loss: train 0.2927 val 0.5230 f1: 0.7516, ROC AUC: 0.8863\n"
     ]
    },
    {
     "name": "stderr",
     "output_type": "stream",
     "text": [
      "100%|██████████| 23679/23679 [03:23<00:00, 116.32it/s]\n",
      "100%|██████████| 7459/7459 [00:22<00:00, 333.68it/s]\n"
     ]
    },
    {
     "name": "stdout",
     "output_type": "stream",
     "text": [
      "tensor(0.3852) tensor(0.5446)\n"
     ]
    },
    {
     "name": "stderr",
     "output_type": "stream",
     "text": [
      "  0%|          | 11/23679 [00:00<03:48, 103.75it/s]"
     ]
    },
    {
     "name": "stdout",
     "output_type": "stream",
     "text": [
      "Epoch 12 loss: train 0.2878 val 0.5104 f1: 0.7576, ROC AUC: 0.8890\n"
     ]
    },
    {
     "name": "stderr",
     "output_type": "stream",
     "text": [
      "100%|██████████| 23679/23679 [03:23<00:00, 116.39it/s]\n",
      "100%|██████████| 7459/7459 [00:22<00:00, 333.74it/s]\n"
     ]
    },
    {
     "name": "stdout",
     "output_type": "stream",
     "text": [
      "tensor(0.3907) tensor(0.5446)\n"
     ]
    },
    {
     "name": "stderr",
     "output_type": "stream",
     "text": [
      "  0%|          | 11/23679 [00:00<03:48, 103.45it/s]"
     ]
    },
    {
     "name": "stdout",
     "output_type": "stream",
     "text": [
      "Epoch 13 loss: train 0.2822 val 0.5022 f1: 0.7652, ROC AUC: 0.8913\n"
     ]
    },
    {
     "name": "stderr",
     "output_type": "stream",
     "text": [
      "100%|██████████| 23679/23679 [03:27<00:00, 114.06it/s]\n",
      "100%|██████████| 7459/7459 [00:22<00:00, 329.28it/s]\n"
     ]
    },
    {
     "name": "stdout",
     "output_type": "stream",
     "text": [
      "tensor(0.3962) tensor(0.5446)\n"
     ]
    },
    {
     "name": "stderr",
     "output_type": "stream",
     "text": [
      "  0%|          | 9/23679 [00:00<04:24, 89.60it/s]"
     ]
    },
    {
     "name": "stdout",
     "output_type": "stream",
     "text": [
      "Epoch 14 loss: train 0.2766 val 0.4918 f1: 0.7716, ROC AUC: 0.8942\n"
     ]
    },
    {
     "name": "stderr",
     "output_type": "stream",
     "text": [
      "100%|██████████| 23679/23679 [03:28<00:00, 113.70it/s]\n",
      "100%|██████████| 7459/7459 [00:22<00:00, 337.17it/s]\n"
     ]
    },
    {
     "name": "stdout",
     "output_type": "stream",
     "text": [
      "tensor(0.4021) tensor(0.5446)\n"
     ]
    },
    {
     "name": "stderr",
     "output_type": "stream",
     "text": [
      "  0%|          | 11/23679 [00:00<03:48, 103.43it/s]"
     ]
    },
    {
     "name": "stdout",
     "output_type": "stream",
     "text": [
      "Epoch 15 loss: train 0.2710 val 0.4858 f1: 0.7744, ROC AUC: 0.8960\n"
     ]
    },
    {
     "name": "stderr",
     "output_type": "stream",
     "text": [
      "100%|██████████| 23679/23679 [03:26<00:00, 114.94it/s]\n",
      "100%|██████████| 7459/7459 [00:22<00:00, 327.04it/s]\n"
     ]
    },
    {
     "name": "stdout",
     "output_type": "stream",
     "text": [
      "tensor(0.4058) tensor(0.5446)\n"
     ]
    },
    {
     "name": "stderr",
     "output_type": "stream",
     "text": [
      "  0%|          | 10/23679 [00:00<04:04, 96.70it/s]"
     ]
    },
    {
     "name": "stdout",
     "output_type": "stream",
     "text": [
      "Epoch 16 loss: train 0.2652 val 0.4871 f1: 0.7787, ROC AUC: 0.8971\n"
     ]
    },
    {
     "name": "stderr",
     "output_type": "stream",
     "text": [
      "100%|██████████| 23679/23679 [03:28<00:00, 113.74it/s]\n",
      "100%|██████████| 7459/7459 [00:22<00:00, 336.34it/s]\n"
     ]
    },
    {
     "name": "stdout",
     "output_type": "stream",
     "text": [
      "tensor(0.4078) tensor(0.5446)\n"
     ]
    },
    {
     "name": "stderr",
     "output_type": "stream",
     "text": [
      "  0%|          | 11/23679 [00:00<03:51, 102.17it/s]"
     ]
    },
    {
     "name": "stdout",
     "output_type": "stream",
     "text": [
      "Epoch 17 loss: train 0.2596 val 0.4905 f1: 0.7804, ROC AUC: 0.8977\n"
     ]
    },
    {
     "name": "stderr",
     "output_type": "stream",
     "text": [
      "100%|██████████| 23679/23679 [09:13<00:00, 42.76it/s]\n",
      "100%|██████████| 7459/7459 [01:16<00:00, 97.44it/s] \n"
     ]
    },
    {
     "name": "stdout",
     "output_type": "stream",
     "text": [
      "tensor(0.4097) tensor(0.5446)\n"
     ]
    },
    {
     "name": "stderr",
     "output_type": "stream",
     "text": [
      "  0%|          | 4/23679 [00:00<11:46, 33.49it/s]"
     ]
    },
    {
     "name": "stdout",
     "output_type": "stream",
     "text": [
      "Epoch 18 loss: train 0.2545 val 0.4933 f1: 0.7825, ROC AUC: 0.8979\n"
     ]
    },
    {
     "name": "stderr",
     "output_type": "stream",
     "text": [
      "100%|██████████| 23679/23679 [11:03<00:00, 35.66it/s]\n",
      "100%|██████████| 7459/7459 [01:16<00:00, 97.59it/s] \n"
     ]
    },
    {
     "name": "stdout",
     "output_type": "stream",
     "text": [
      "tensor(0.4131) tensor(0.5446)\n"
     ]
    },
    {
     "name": "stderr",
     "output_type": "stream",
     "text": [
      "  0%|          | 4/23679 [00:00<11:43, 33.64it/s]"
     ]
    },
    {
     "name": "stdout",
     "output_type": "stream",
     "text": [
      "Epoch 19 loss: train 0.2479 val 0.4947 f1: 0.7859, ROC AUC: 0.8979\n"
     ]
    },
    {
     "name": "stderr",
     "output_type": "stream",
     "text": [
      "100%|██████████| 23679/23679 [08:55<00:00, 44.19it/s] \n",
      "100%|██████████| 7459/7459 [00:22<00:00, 333.93it/s]\n",
      "  0%|          | 11/23679 [00:00<03:44, 105.44it/s]"
     ]
    },
    {
     "name": "stdout",
     "output_type": "stream",
     "text": [
      "tensor(0.4112) tensor(0.5446)\n",
      "Epoch 20 loss: train 0.2416 val 0.4957 f1: 0.7827, ROC AUC: 0.8977\n"
     ]
    },
    {
     "name": "stderr",
     "output_type": "stream",
     "text": [
      "100%|██████████| 23679/23679 [04:07<00:00, 95.86it/s] \n",
      "100%|██████████| 7459/7459 [00:22<00:00, 336.56it/s]\n",
      "  0%|          | 11/23679 [00:00<03:42, 106.49it/s]"
     ]
    },
    {
     "name": "stdout",
     "output_type": "stream",
     "text": [
      "tensor(0.4106) tensor(0.5446)\n",
      "Epoch 21 loss: train 0.2356 val 0.4998 f1: 0.7812, ROC AUC: 0.8977\n"
     ]
    },
    {
     "name": "stderr",
     "output_type": "stream",
     "text": [
      "100%|██████████| 23679/23679 [03:23<00:00, 116.31it/s]\n",
      "100%|██████████| 7459/7459 [00:22<00:00, 336.40it/s]\n",
      "  0%|          | 11/23679 [00:00<03:44, 105.42it/s]"
     ]
    },
    {
     "name": "stdout",
     "output_type": "stream",
     "text": [
      "tensor(0.4151) tensor(0.5446)\n",
      "Epoch 22 loss: train 0.2289 val 0.5004 f1: 0.7840, ROC AUC: 0.8979\n"
     ]
    },
    {
     "name": "stderr",
     "output_type": "stream",
     "text": [
      "100%|██████████| 23679/23679 [03:24<00:00, 116.00it/s]\n",
      "100%|██████████| 7459/7459 [00:22<00:00, 331.67it/s]\n",
      "  0%|          | 11/23679 [00:00<03:38, 108.46it/s]"
     ]
    },
    {
     "name": "stdout",
     "output_type": "stream",
     "text": [
      "tensor(0.4149) tensor(0.5446)\n",
      "Epoch 23 loss: train 0.2215 val 0.5062 f1: 0.7850, ROC AUC: 0.8982\n"
     ]
    },
    {
     "name": "stderr",
     "output_type": "stream",
     "text": [
      "100%|██████████| 23679/23679 [03:24<00:00, 115.86it/s]\n",
      "100%|██████████| 7459/7459 [00:22<00:00, 336.33it/s]\n",
      "  0%|          | 12/23679 [00:00<03:31, 112.02it/s]"
     ]
    },
    {
     "name": "stdout",
     "output_type": "stream",
     "text": [
      "tensor(0.4123) tensor(0.5446)\n",
      "Epoch 24 loss: train 0.2146 val 0.5268 f1: 0.7852, ROC AUC: 0.8980\n"
     ]
    },
    {
     "name": "stderr",
     "output_type": "stream",
     "text": [
      "100%|██████████| 23679/23679 [03:24<00:00, 116.02it/s]\n",
      "100%|██████████| 7459/7459 [00:22<00:00, 334.78it/s]\n",
      "  0%|          | 11/23679 [00:00<03:37, 108.93it/s]"
     ]
    },
    {
     "name": "stdout",
     "output_type": "stream",
     "text": [
      "tensor(0.4117) tensor(0.5446)\n",
      "Epoch 25 loss: train 0.2081 val 0.5482 f1: 0.7845, ROC AUC: 0.8980\n"
     ]
    },
    {
     "name": "stderr",
     "output_type": "stream",
     "text": [
      "100%|██████████| 23679/23679 [03:22<00:00, 116.90it/s]\n",
      "100%|██████████| 7459/7459 [00:22<00:00, 335.21it/s]\n"
     ]
    },
    {
     "name": "stdout",
     "output_type": "stream",
     "text": [
      "tensor(0.4143) tensor(0.5446)\n"
     ]
    },
    {
     "name": "stderr",
     "output_type": "stream",
     "text": [
      "  0%|          | 10/23679 [00:00<03:58, 99.04it/s]"
     ]
    },
    {
     "name": "stdout",
     "output_type": "stream",
     "text": [
      "Epoch 26 loss: train 0.2015 val 0.5450 f1: 0.7872, ROC AUC: 0.8981\n"
     ]
    },
    {
     "name": "stderr",
     "output_type": "stream",
     "text": [
      "100%|██████████| 23679/23679 [03:24<00:00, 116.00it/s]\n",
      "100%|██████████| 7459/7459 [00:22<00:00, 335.85it/s]\n"
     ]
    },
    {
     "name": "stdout",
     "output_type": "stream",
     "text": [
      "tensor(0.4152) tensor(0.5446)\n"
     ]
    },
    {
     "name": "stderr",
     "output_type": "stream",
     "text": [
      "  0%|          | 11/23679 [00:00<03:49, 103.23it/s]"
     ]
    },
    {
     "name": "stdout",
     "output_type": "stream",
     "text": [
      "Epoch 27 loss: train 0.1947 val 0.5516 f1: 0.7884, ROC AUC: 0.8975\n"
     ]
    },
    {
     "name": "stderr",
     "output_type": "stream",
     "text": [
      "100%|██████████| 23679/23679 [03:23<00:00, 116.37it/s]\n",
      "100%|██████████| 7459/7459 [00:22<00:00, 336.15it/s]\n"
     ]
    },
    {
     "name": "stdout",
     "output_type": "stream",
     "text": [
      "tensor(0.4239) tensor(0.5446)\n"
     ]
    },
    {
     "name": "stderr",
     "output_type": "stream",
     "text": [
      "  0%|          | 11/23679 [00:00<03:51, 102.21it/s]"
     ]
    },
    {
     "name": "stdout",
     "output_type": "stream",
     "text": [
      "Epoch 28 loss: train 0.1888 val 0.5527 f1: 0.7968, ROC AUC: 0.8964\n"
     ]
    },
    {
     "name": "stderr",
     "output_type": "stream",
     "text": [
      "100%|██████████| 23679/23679 [03:23<00:00, 116.16it/s]\n",
      "100%|██████████| 7459/7459 [00:22<00:00, 336.20it/s]\n",
      "  0%|          | 9/23679 [00:00<04:25, 89.25it/s]"
     ]
    },
    {
     "name": "stdout",
     "output_type": "stream",
     "text": [
      "tensor(0.4254) tensor(0.5446)\n",
      "Epoch 29 loss: train 0.1829 val 0.5690 f1: 0.7950, ROC AUC: 0.8938\n"
     ]
    },
    {
     "name": "stderr",
     "output_type": "stream",
     "text": [
      "100%|██████████| 23679/23679 [03:29<00:00, 113.19it/s]\n",
      "100%|██████████| 7459/7459 [00:22<00:00, 332.96it/s]\n"
     ]
    },
    {
     "name": "stdout",
     "output_type": "stream",
     "text": [
      "tensor(0.4330) tensor(0.5446)\n"
     ]
    },
    {
     "name": "stderr",
     "output_type": "stream",
     "text": [
      "  0%|          | 10/23679 [00:00<03:56, 99.88it/s]"
     ]
    },
    {
     "name": "stdout",
     "output_type": "stream",
     "text": [
      "Epoch 30 loss: train 0.1771 val 0.5696 f1: 0.8003, ROC AUC: 0.8936\n"
     ]
    },
    {
     "name": "stderr",
     "output_type": "stream",
     "text": [
      "100%|██████████| 23679/23679 [03:26<00:00, 114.40it/s]\n",
      "100%|██████████| 7459/7459 [00:22<00:00, 334.00it/s]\n",
      "  0%|          | 11/23679 [00:00<03:44, 105.33it/s]"
     ]
    },
    {
     "name": "stdout",
     "output_type": "stream",
     "text": [
      "tensor(0.4253) tensor(0.5446)\n",
      "Epoch 31 loss: train 0.1712 val 0.5813 f1: 0.7943, ROC AUC: 0.8930\n"
     ]
    },
    {
     "name": "stderr",
     "output_type": "stream",
     "text": [
      "100%|██████████| 23679/23679 [03:27<00:00, 114.21it/s]\n",
      "100%|██████████| 7459/7459 [00:22<00:00, 328.88it/s]\n"
     ]
    },
    {
     "name": "stdout",
     "output_type": "stream",
     "text": [
      "tensor(0.4364) tensor(0.5446)\n"
     ]
    },
    {
     "name": "stderr",
     "output_type": "stream",
     "text": [
      "  0%|          | 10/23679 [00:00<03:58, 99.17it/s]"
     ]
    },
    {
     "name": "stdout",
     "output_type": "stream",
     "text": [
      "Epoch 32 loss: train 0.1660 val 0.5801 f1: 0.8009, ROC AUC: 0.8934\n"
     ]
    },
    {
     "name": "stderr",
     "output_type": "stream",
     "text": [
      "100%|██████████| 23679/23679 [03:26<00:00, 114.46it/s]\n",
      "100%|██████████| 7459/7459 [00:22<00:00, 330.39it/s]\n"
     ]
    },
    {
     "name": "stdout",
     "output_type": "stream",
     "text": [
      "tensor(0.4535) tensor(0.5446)\n"
     ]
    },
    {
     "name": "stderr",
     "output_type": "stream",
     "text": [
      "  0%|          | 10/23679 [00:00<04:00, 98.37it/s]"
     ]
    },
    {
     "name": "stdout",
     "output_type": "stream",
     "text": [
      "Epoch 33 loss: train 0.1586 val 0.5974 f1: 0.8110, ROC AUC: 0.8942\n"
     ]
    },
    {
     "name": "stderr",
     "output_type": "stream",
     "text": [
      "100%|██████████| 23679/23679 [03:27<00:00, 114.26it/s]\n",
      "100%|██████████| 7459/7459 [00:22<00:00, 334.55it/s]\n"
     ]
    },
    {
     "name": "stdout",
     "output_type": "stream",
     "text": [
      "tensor(0.4733) tensor(0.5446)\n"
     ]
    },
    {
     "name": "stderr",
     "output_type": "stream",
     "text": [
      "  0%|          | 10/23679 [00:00<03:57, 99.75it/s]"
     ]
    },
    {
     "name": "stdout",
     "output_type": "stream",
     "text": [
      "Epoch 34 loss: train 0.1546 val 0.5923 f1: 0.8232, ROC AUC: 0.8939\n"
     ]
    },
    {
     "name": "stderr",
     "output_type": "stream",
     "text": [
      "100%|██████████| 23679/23679 [03:27<00:00, 114.12it/s]\n",
      "100%|██████████| 7459/7459 [00:22<00:00, 334.61it/s]\n",
      "  0%|          | 11/23679 [00:00<03:43, 105.81it/s]"
     ]
    },
    {
     "name": "stdout",
     "output_type": "stream",
     "text": [
      "tensor(0.4645) tensor(0.5446)\n",
      "Epoch 35 loss: train 0.1484 val 0.6235 f1: 0.8179, ROC AUC: 0.8940\n"
     ]
    },
    {
     "name": "stderr",
     "output_type": "stream",
     "text": [
      "100%|██████████| 23679/23679 [03:26<00:00, 114.59it/s]\n",
      "100%|██████████| 7459/7459 [00:22<00:00, 334.51it/s]\n"
     ]
    },
    {
     "name": "stdout",
     "output_type": "stream",
     "text": [
      "tensor(0.4782) tensor(0.5446)\n"
     ]
    },
    {
     "name": "stderr",
     "output_type": "stream",
     "text": [
      "  0%|          | 10/23679 [00:00<04:05, 96.27it/s]"
     ]
    },
    {
     "name": "stdout",
     "output_type": "stream",
     "text": [
      "Epoch 36 loss: train 0.1431 val 0.5851 f1: 0.8234, ROC AUC: 0.8932\n"
     ]
    },
    {
     "name": "stderr",
     "output_type": "stream",
     "text": [
      "100%|██████████| 23679/23679 [03:26<00:00, 114.60it/s]\n",
      "100%|██████████| 7459/7459 [00:22<00:00, 329.64it/s]\n"
     ]
    },
    {
     "name": "stdout",
     "output_type": "stream",
     "text": [
      "tensor(0.4930) tensor(0.5446)\n"
     ]
    },
    {
     "name": "stderr",
     "output_type": "stream",
     "text": [
      "  0%|          | 11/23679 [00:00<03:50, 102.73it/s]"
     ]
    },
    {
     "name": "stdout",
     "output_type": "stream",
     "text": [
      "Epoch 37 loss: train 0.1401 val 0.6742 f1: 0.8275, ROC AUC: 0.8934\n"
     ]
    },
    {
     "name": "stderr",
     "output_type": "stream",
     "text": [
      "100%|██████████| 23679/23679 [03:26<00:00, 114.62it/s]\n",
      "100%|██████████| 7459/7459 [00:22<00:00, 333.93it/s]\n"
     ]
    },
    {
     "name": "stdout",
     "output_type": "stream",
     "text": [
      "tensor(0.4985) tensor(0.5446)\n"
     ]
    },
    {
     "name": "stderr",
     "output_type": "stream",
     "text": [
      "  0%|          | 11/23679 [00:00<03:49, 102.98it/s]"
     ]
    },
    {
     "name": "stdout",
     "output_type": "stream",
     "text": [
      "Epoch 38 loss: train 0.1367 val 0.7493 f1: 0.8288, ROC AUC: 0.8916\n"
     ]
    },
    {
     "name": "stderr",
     "output_type": "stream",
     "text": [
      "100%|██████████| 23679/23679 [03:26<00:00, 114.41it/s]\n",
      "100%|██████████| 7459/7459 [00:22<00:00, 334.82it/s]\n"
     ]
    },
    {
     "name": "stdout",
     "output_type": "stream",
     "text": [
      "tensor(0.5021) tensor(0.5446)\n",
      "Epoch 39 loss: train 0.1317 val 0.7183 f1: 0.8305, ROC AUC: 0.8915\n"
     ]
    }
   ],
   "source": [
    "cnn_model = CNNClassifier().cuda()\n",
    "train(cnn_model, 40, dl_train, dl_val, 1e-5, 1e-6, 'seq_cnn_wm.pt')"
   ]
  },
  {
   "cell_type": "code",
   "execution_count": null,
   "metadata": {},
   "outputs": [],
   "source": [
    "attn_model = AttnClassifier().cuda()\n",
    "train(attn_model, 20, dl_train, dl_val, 1e-4, 1e-4)"
   ]
  },
  {
   "cell_type": "code",
   "execution_count": 75,
   "metadata": {},
   "outputs": [
    {
     "name": "stdout",
     "output_type": "stream",
     "text": [
      "0.882351462971083 0.8094045095394105\n"
     ]
    }
   ],
   "source": [
    "model = CNNClassifier()\n",
    "model.load_state_dict(torch.load('seq_cnn_wm.pt'))\n",
    "model.train(False)\n",
    "with torch.no_grad():\n",
    "    pred = np.array([model(i) for i in torch.utils.data.DataLoader(x_test)])\n",
    "    print(roc_auc_score(y_test, pred), f1_score(y_test, pred > .5))"
   ]
  },
  {
   "cell_type": "code",
   "execution_count": 35,
   "metadata": {},
   "outputs": [],
   "source": [
    "from collections import defaultdict\n",
    "\n",
    "\n",
    "def per_project_f1(mns, tgts, preds, projs):\n",
    "    m_true_scores = defaultdict(dict)\n",
    "    m_false_scores = defaultdict(lambda: defaultdict(list))\n",
    "    for mn, tgt, pred, proj in zip(mns, tgts, preds, projs):\n",
    "        if tgt:\n",
    "            m_true_scores[proj][mn] = pred\n",
    "        else:\n",
    "            m_false_scores[proj][mn].append(pred)\n",
    "    f1s = []\n",
    "    for proj in m_true_scores.keys():\n",
    "        tp, n_refs, n_methods = 0, 0, 0\n",
    "        for mn, mts in m_true_scores[proj].items():\n",
    "            if not m_false_scores[proj][mn]:\n",
    "                continue\n",
    "            if max(mts, *m_false_scores[proj][mn]) > .5:\n",
    "                n_refs += 1\n",
    "                if mts > max(m_false_scores[proj][mn]):\n",
    "                    tp += 1\n",
    "            n_methods += 1\n",
    "        precision = tp / n_refs\n",
    "        recall = tp / n_methods\n",
    "        f1s.append(2 * precision * recall / (precision + recall))\n",
    "    return np.mean(f1s)"
   ]
  },
  {
   "cell_type": "code",
   "execution_count": 37,
   "metadata": {},
   "outputs": [],
   "source": [
    "proj_test = [name for (name, *_) in test_ds]"
   ]
  },
  {
   "cell_type": "code",
   "execution_count": 76,
   "metadata": {},
   "outputs": [
    {
     "data": {
      "text/plain": [
       "0.8165950197672277"
      ]
     },
     "execution_count": 76,
     "metadata": {},
     "output_type": "execute_result"
    }
   ],
   "source": [
    "per_project_f1(mn_test, y_test, pred, proj_test)"
   ]
  }
 ],
 "metadata": {
  "kernelspec": {
   "display_name": "Python 3",
   "language": "python",
   "name": "python3"
  },
  "language_info": {
   "codemirror_mode": {
    "name": "ipython",
    "version": 3
   },
   "file_extension": ".py",
   "mimetype": "text/x-python",
   "name": "python",
   "nbconvert_exporter": "python",
   "pygments_lexer": "ipython3",
   "version": "3.7.5"
  }
 },
 "nbformat": 4,
 "nbformat_minor": 4
}
