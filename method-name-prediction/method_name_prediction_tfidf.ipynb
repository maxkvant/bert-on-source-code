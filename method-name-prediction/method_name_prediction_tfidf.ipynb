{
 "cells": [
  {
   "cell_type": "code",
   "execution_count": 1,
   "metadata": {},
   "outputs": [],
   "source": [
    "import os\n",
    "os.putenv(\"CUDA_VISIBLE_DEVICES\", \"\")\n",
    "\n",
    "\n",
    "from typing import Union, Iterable, List\n",
    "from pathlib import Path\n",
    "import json\n",
    "import torch\n",
    "import re\n",
    "from catalyst.utils import set_global_seed\n",
    "import random\n",
    "import numpy as np\n",
    "\n",
    "\n",
    "def read_jsonl(path):\n",
    "    with open(path, 'r') as istream:\n",
    "        return [json.loads(l) for l in istream]\n",
    "\n",
    "\n",
    "SEED = 33\n",
    "set_global_seed(SEED)"
   ]
  },
  {
   "cell_type": "code",
   "execution_count": 2,
   "metadata": {},
   "outputs": [],
   "source": [
    "DATA_FOLDER = Path.home() / \"data/method_name_prediction/python/final/jsonl\"\n",
    "\n",
    "\n",
    "train = read_jsonl(DATA_FOLDER / \"train_preprocessed.jsonl\")\n",
    "valid = read_jsonl(DATA_FOLDER / \"valid_preprocessed.jsonl\")\n",
    "test = read_jsonl(DATA_FOLDER / \"test_preprocessed.jsonl\")"
   ]
  },
  {
   "cell_type": "code",
   "execution_count": 3,
   "metadata": {},
   "outputs": [
    {
     "data": {
      "text/plain": [
       "'zmq_device'"
      ]
     },
     "execution_count": 3,
     "metadata": {},
     "output_type": "execute_result"
    }
   ],
   "source": [
    "train[0]['function_name']"
   ]
  },
  {
   "cell_type": "code",
   "execution_count": 4,
   "metadata": {},
   "outputs": [],
   "source": [
    "train_names = {e['function_name'] for e in train}\n",
    "valid_names = {e['function_name'] for e in valid}\n",
    "test_names = {e['function_name'] for e in test}"
   ]
  },
  {
   "cell_type": "code",
   "execution_count": 5,
   "metadata": {},
   "outputs": [],
   "source": [
    "def get_and_flatten(data, key):\n",
    "    return [\n",
    "        [\n",
    "            tok for line in e[key]\n",
    "            for tok in line\n",
    "        ]\n",
    "        for e in data\n",
    "    ]\n"
   ]
  },
  {
   "cell_type": "code",
   "execution_count": 6,
   "metadata": {},
   "outputs": [],
   "source": [
    "body_key = 'function_body_tokenized'\n",
    "train_sentences = get_and_flatten(train, body_key)\n",
    "valid_sentences = get_and_flatten(valid, body_key)\n",
    "test_sentences = get_and_flatten(test, body_key)\n",
    "\n",
    "name_key = 'function_name_tokenized'\n",
    "train_names = get_and_flatten(train, name_key)\n",
    "valid_names = get_and_flatten(valid, name_key)\n",
    "test_names = get_and_flatten(test, name_key)"
   ]
  },
  {
   "cell_type": "code",
   "execution_count": 7,
   "metadata": {},
   "outputs": [],
   "source": [
    "from gensim.corpora import Dictionary\n",
    "from gensim.models import TfidfModel\n",
    "from gensim.similarities import SparseMatrixSimilarity"
   ]
  },
  {
   "cell_type": "code",
   "execution_count": 8,
   "metadata": {},
   "outputs": [],
   "source": [
    "dictionary = Dictionary(train_sentences)"
   ]
  },
  {
   "cell_type": "code",
   "execution_count": 9,
   "metadata": {},
   "outputs": [],
   "source": [
    "def get_bow(dictionary, corpus):\n",
    "    return [dictionary.doc2bow(d) for d in corpus]"
   ]
  },
  {
   "cell_type": "code",
   "execution_count": 10,
   "metadata": {},
   "outputs": [],
   "source": [
    "bow_train = get_bow(dictionary, train_sentences)\n",
    "bow_valid = get_bow(dictionary, valid_sentences)\n",
    "bow_test = get_bow(dictionary, test_sentences)"
   ]
  },
  {
   "cell_type": "code",
   "execution_count": 11,
   "metadata": {},
   "outputs": [],
   "source": [
    "tfidf_train = TfidfModel(bow_train)[bow_train]"
   ]
  },
  {
   "cell_type": "code",
   "execution_count": 12,
   "metadata": {},
   "outputs": [],
   "source": [
    "index = SparseMatrixSimilarity(tfidf_train, num_features=len(dictionary))"
   ]
  },
  {
   "cell_type": "code",
   "execution_count": 13,
   "metadata": {},
   "outputs": [],
   "source": [
    "tfidf_valid = TfidfModel(bow_valid)[bow_valid]\n",
    "tfidf_test = TfidfModel(bow_test)[bow_test]"
   ]
  },
  {
   "cell_type": "code",
   "execution_count": 14,
   "metadata": {},
   "outputs": [],
   "source": [
    "from tqdm import tqdm\n",
    "import pandas as pd\n",
    "from utils import compute_metrics\n",
    "\n",
    "\n",
    "def evaluate_tfidf(index, tokenized_candidates, tfidf_corpus, tokenized_names):\n",
    "    metrics = []\n",
    "    for i, example in tqdm(enumerate(tfidf_corpus)):\n",
    "        top_5_idx = np.argsort(\n",
    "            index.get_similarities(example)\n",
    "        )[-1:-5:-1]\n",
    "        candidates = [tokenized_candidates[j] for j in top_5_idx]\n",
    "        metrics.append(compute_metrics(tokenized_names[i], candidates))\n",
    "    return pd.DataFrame(metrics)\n"
   ]
  },
  {
   "cell_type": "code",
   "execution_count": 15,
   "metadata": {},
   "outputs": [],
   "source": [
    "EOS_TOKEN = '\\\\u\\\\u\\\\uNEWLINE\\\\u\\\\u\\\\u_'\n",
    "train_names = [name[:name.index(EOS_TOKEN)] for name in train_names]\n",
    "test_names = [name[:name.index(EOS_TOKEN)] for name in test_names]"
   ]
  },
  {
   "cell_type": "code",
   "execution_count": 16,
   "metadata": {},
   "outputs": [
    {
     "name": "stderr",
     "output_type": "stream",
     "text": [
      "21877it [1:09:36,  5.24it/s]\n"
     ]
    }
   ],
   "source": [
    "test_metrics = evaluate_tfidf(index, train_names, tfidf_test, test_names)"
   ]
  },
  {
   "cell_type": "code",
   "execution_count": 17,
   "metadata": {},
   "outputs": [
    {
     "data": {
      "text/plain": [
       "exact-top-1        0.035974\n",
       "exact-top-5        0.052567\n",
       "precision-top-1    0.094529\n",
       "precision-top-5    0.183505\n",
       "recall-top-1       0.091906\n",
       "recall-top-5       0.174692\n",
       "f1-top1            0.090522\n",
       "f1-top5            0.173129\n",
       "dtype: float64"
      ]
     },
     "execution_count": 17,
     "metadata": {},
     "output_type": "execute_result"
    }
   ],
   "source": [
    "test_metrics.mean()"
   ]
  },
  {
   "cell_type": "code",
   "execution_count": null,
   "metadata": {},
   "outputs": [],
   "source": []
  }
 ],
 "metadata": {
  "kernelspec": {
   "display_name": "Python 3",
   "language": "python",
   "name": "python3"
  },
  "language_info": {
   "codemirror_mode": {
    "name": "ipython",
    "version": 3
   },
   "file_extension": ".py",
   "mimetype": "text/x-python",
   "name": "python",
   "nbconvert_exporter": "python",
   "pygments_lexer": "ipython3",
   "version": "3.7.5"
  }
 },
 "nbformat": 4,
 "nbformat_minor": 4
}
